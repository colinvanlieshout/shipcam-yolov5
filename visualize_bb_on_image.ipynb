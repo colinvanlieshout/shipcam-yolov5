{
 "cells": [
  {
   "source": [
    "TODO:\n",
    "* store the images in a folder\n",
    "* for each crop, get the right coordinates and store those in a dataframe\n",
    "* could also integrate it directly with the yolo conversion such that we don't store data too many times"
   ],
   "cell_type": "markdown",
   "metadata": {}
  },
  {
   "cell_type": "code",
   "execution_count": 43,
   "metadata": {},
   "outputs": [],
   "source": [
    "\n",
    "import cv2\n",
    "import pandas as pd"
   ]
  },
  {
   "cell_type": "code",
   "execution_count": 44,
   "metadata": {},
   "outputs": [],
   "source": [
    "image_folder =\"C:/Users/clieshou/PycharmProjects/yolov5/shipcamdata_cropped/images/\"\n",
    "\n",
    "df = pd.read_csv(\"shipcamdata_cropped/labels_cropped_images.csv\")"
   ]
  },
  {
   "cell_type": "code",
   "execution_count": 45,
   "metadata": {},
   "outputs": [
    {
     "output_type": "execute_result",
     "data": {
      "text/plain": [
       "           filename  width  height class        xmin       ymin        xmax  \\\n",
       "31  dsc01292_c0.jpg    640     640  hard  117.825679  26.106498  610.133371   \n",
       "\n",
       "          ymax     type  \n",
       "31  407.394711  Shipcam  "
      ],
      "text/html": "<div>\n<style scoped>\n    .dataframe tbody tr th:only-of-type {\n        vertical-align: middle;\n    }\n\n    .dataframe tbody tr th {\n        vertical-align: top;\n    }\n\n    .dataframe thead th {\n        text-align: right;\n    }\n</style>\n<table border=\"1\" class=\"dataframe\">\n  <thead>\n    <tr style=\"text-align: right;\">\n      <th></th>\n      <th>filename</th>\n      <th>width</th>\n      <th>height</th>\n      <th>class</th>\n      <th>xmin</th>\n      <th>ymin</th>\n      <th>xmax</th>\n      <th>ymax</th>\n      <th>type</th>\n    </tr>\n  </thead>\n  <tbody>\n    <tr>\n      <th>31</th>\n      <td>dsc01292_c0.jpg</td>\n      <td>640</td>\n      <td>640</td>\n      <td>hard</td>\n      <td>117.825679</td>\n      <td>26.106498</td>\n      <td>610.133371</td>\n      <td>407.394711</td>\n      <td>Shipcam</td>\n    </tr>\n  </tbody>\n</table>\n</div>"
     },
     "metadata": {},
     "execution_count": 45
    }
   ],
   "source": [
    "df_image"
   ]
  },
  {
   "cell_type": "code",
   "execution_count": 46,
   "metadata": {},
   "outputs": [],
   "source": [
    "from PIL import Image, ImageFont, ImageDraw, ImageEnhance\n",
    "\n",
    "# image_name = \"dsc01292_c0.jpg\" \n",
    "image_name = \"dsc01162_c0.jpg\" \n",
    "df_image = df[df['filename'] == image_name]\n",
    "image_path = (os.path.join(image_folder, image_name))\n",
    "source_img = Image.open(image_path).convert(\"RGBA\")\n",
    "\n",
    "draw = ImageDraw.Draw(source_img)\n",
    "draw.rectangle(((df_image['xmin'], df_image['ymin']), (df_image['xmax'], df_image['ymax'])))\n",
    "# draw.text((20, 70), \"something123\", font=ImageFont.truetype(\"font_path123\"))\n",
    "\n",
    "source_img.show()"
   ]
  },
  {
   "cell_type": "code",
   "execution_count": 47,
   "metadata": {},
   "outputs": [],
   "source": [
    "from PIL import Image, ImageFont, ImageDraw, ImageEnhance\n",
    "\n",
    "image_name = \"dsc01292_c0.jpg\" \n",
    "df_image = df[df['filename'] == image_name]\n",
    "image_path = (os.path.join(image_folder, image_name))\n",
    "source_img = Image.open(image_path).convert(\"RGBA\")\n",
    "\n",
    "draw = ImageDraw.Draw(source_img)\n",
    "draw.rectangle(((df_image['xmin'], df_image['ymin']), (df_image['xmax'], df_image['ymax'])))\n",
    "# draw.text((20, 70), \"something123\", font=ImageFont.truetype(\"font_path123\"))\n",
    "\n",
    "source_img.show()"
   ]
  },
  {
   "cell_type": "code",
   "execution_count": null,
   "metadata": {},
   "outputs": [],
   "source": []
  }
 ],
 "metadata": {
  "kernelspec": {
   "display_name": "Python 3",
   "language": "python",
   "name": "python3"
  },
  "language_info": {
   "codemirror_mode": {
    "name": "ipython",
    "version": 3
   },
   "file_extension": ".py",
   "mimetype": "text/x-python",
   "name": "python",
   "nbconvert_exporter": "python",
   "pygments_lexer": "ipython3",
   "version": "3.8.3-final"
  }
 },
 "nbformat": 4,
 "nbformat_minor": 4
}